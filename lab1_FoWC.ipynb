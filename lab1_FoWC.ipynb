{
  "nbformat": 4,
  "nbformat_minor": 0,
  "metadata": {
    "colab": {
      "provenance": [],
      "authorship_tag": "ABX9TyPW/KeJZRQEK7hw7+IJjrCR",
      "include_colab_link": true
    },
    "kernelspec": {
      "name": "python3",
      "display_name": "Python 3"
    },
    "language_info": {
      "name": "python"
    }
  },
  "cells": [
    {
      "cell_type": "markdown",
      "metadata": {
        "id": "view-in-github",
        "colab_type": "text"
      },
      "source": [
        "<a href=\"https://colab.research.google.com/github/D-314/FoWC/blob/main/lab1_FoWC.ipynb\" target=\"_parent\"><img src=\"https://colab.research.google.com/assets/colab-badge.svg\" alt=\"Open In Colab\"/></a>"
      ]
    },
    {
      "cell_type": "code",
      "source": [
        "import multiprocessing as mp\n",
        "import numpy as np\n",
        "\n",
        "# Variables below are per-process instances initialized at init_pool function\n",
        "# Random number generator instance\n",
        "G_RNG_INSTANCE = None\n",
        "\n",
        "\n",
        "def init_pool(n_workers=None):\n",
        "    \"\"\"\n",
        "    Initialize a multiprocessing pool\n",
        "    \"\"\"\n",
        "    # The number of workers. If None, use the cpu_count() value\n",
        "    if n_workers is None:\n",
        "        n_workers = mp.cpu_count()\n",
        "\n",
        "    # Initialize the seed sequence for child processes:\n",
        "    manager = mp.Manager()\n",
        "    queue = manager.Queue()\n",
        "    for rng in get_seed_list(n_workers):\n",
        "        queue.put(rng)\n",
        "    return mp.Pool(\n",
        "        processes=mp.cpu_count(),\n",
        "        initializer=init_worker,\n",
        "        initargs=(queue,)\n",
        "    )\n",
        "\n",
        "\n",
        "def set_rng_seed(seed_value):\n",
        "    \"\"\"\n",
        "    Set the seed value for multiprocessing pool\n",
        "    \"\"\"\n",
        "    global G_RNG_INSTANCE\n",
        "    G_RNG_INSTANCE = np.random.default_rng(seed_value)\n",
        "\n",
        "\n",
        "def init_worker(queue):\n",
        "    \"\"\"\n",
        "    Initialize random number generator seed and set shared memory pointer\n",
        "    \"\"\"\n",
        "    set_rng_seed(queue.get())\n",
        "\n",
        "\n",
        "def get_seed_list(n_workers):\n",
        "    \"\"\"\n",
        "    Generate SeedSequence\n",
        "    \"\"\"\n",
        "    seed_sequence = np.random.SeedSequence()\n",
        "    return seed_sequence.spawn(n_workers)\n",
        "\n",
        "\n",
        "def get_rng_instance():\n",
        "    \"\"\"\n",
        "    Get the RNG instance (inside worker)\n",
        "    \"\"\"\n",
        "    return G_RNG_INSTANCE\n",
        "\n",
        "\n",
        "def fcn(rng, snr_db):\n",
        "    #rng = np.random.default_rng()\n",
        "    #snr_db = 10\n",
        "\n",
        "    rate = 1/2\n",
        "    k = 2\n",
        "    n = int(k/rate)\n",
        "    M = 2 ** k\n",
        "\n",
        "    codebook = np.array(rng.standard_normal(size=(n, M)) + 1j * rng.standard_normal(size=(n, M))) #\n",
        "    codebook /= np.linalg.norm(codebook, axis=0)*np.sqrt(n)\n",
        "\n",
        "    ind = np.random.randint(0, M-1);\n",
        "    cwd = np.reshape(codebook[:,ind],(n,1))\n",
        "    \n",
        "    Eb = 1 #W\n",
        "    sigma = np.sqrt(Eb / (2 * (10 ** (snr_db / 10 ))))\n",
        "    Noise = sigma*(np.random.randn(n,1) + 1j * np.random.randn(n,1))\n",
        "    cwd_RX = cwd + Noise\n",
        "\n",
        "    dist = np.linalg.norm(codebook-cwd_RX, axis = 0)\n",
        "    ind_rx = np.argmin(dist)\n",
        "    #print('{} {}'.format(ind, ind_rx))\n",
        "\n",
        "    return (ind != ind_rx)\n",
        "\n",
        "\n",
        "def eval_fcn(snr_db):\n",
        "    \"\"\"\n",
        "    This function takes per-process RNG instance to evaluate single experiment\n",
        "    \"\"\"\n",
        "    return fcn(get_rng_instance(), snr_db)\n",
        "\n",
        "\n",
        "from tqdm import tqdm\n",
        "import matplotlib.pyplot as plt\n",
        "\n",
        "if __name__ == '__main__':\n",
        "    BER = []\n",
        "    for snr_db in tqdm(range(-5,15)):\n",
        "        with init_pool() as pool:\n",
        "            #snr_db = 8\n",
        "            n_tests = 1\n",
        "            errors = np.array(pool.map(eval_fcn, [snr_db] * n_tests))\n",
        "            BER.append(np.mean(errors))\n",
        "\n",
        "    plt.plot(range(-5,15), BER)\n",
        "    plt.yscale('log')\n",
        "    plt.xlabel('SNR')\n",
        "    plt.ylabel('BER')\n",
        "    plt.grid()"
      ],
      "metadata": {
        "colab": {
          "base_uri": "https://localhost:8080/",
          "height": 296
        },
        "id": "41o0h76_knZd",
        "outputId": "aa30ad79-8690-4042-c589-9453d0e0f9c3"
      },
      "execution_count": null,
      "outputs": [
        {
          "output_type": "stream",
          "name": "stderr",
          "text": [
            "100%|██████████| 20/20 [00:15<00:00,  1.28it/s]\n"
          ]
        },
        {
          "output_type": "display_data",
          "data": {
            "text/plain": [
              "<Figure size 432x288 with 1 Axes>"
            ],
            "image/png": "[encoded data removed]"
          },
          "metadata": {
            "needs_background": "light"
          }
        }
      ]
    },
    {
      "cell_type": "code",
      "source": [
        "rng = np.random.default_rng()\n",
        "snr_db = 10\n",
        "\n",
        "rate = 1/2\n",
        "k = 2\n",
        "n = int(k/rate)\n",
        "M = 2 ** k\n",
        "\n",
        "codebook = np.array(rng.standard_normal(size=(n, M)) + 1j * rng.standard_normal(size=(n, M))) #\n",
        "codebook /= np.linalg.norm(codebook, axis=0)\n",
        "\n",
        "ind = np.random.randint(0, M-1);\n",
        "cwd = np.reshape(codebook[:,ind],(n,1))\n",
        "\n",
        "Eb = 1 #W\n",
        "sigma = np.sqrt(Eb / (2 * (10 ** (snr_db / 10 ))))\n",
        "Noise = sigma*(np.random.randn(n,1) + 1j * np.random.randn(n,1))\n",
        "cwd_RX = cwd + Noise\n",
        "\n",
        "\n",
        "dist = np.linalg.norm(codebook-cwd_RX, axis = 0)\n",
        "ind_rx = np.argmin(dist)\n",
        "cwd_RX.shape\n",
        "dist\n",
        "np.linalg.norm(codebook, axis = 1)"
      ],
      "metadata": {
        "colab": {
          "base_uri": "https://localhost:8080/"
        },
        "id": "VJCsnLozkbiF",
        "outputId": "d487a51e-e38a-4446-ffe6-2663c7f5d800"
      },
      "execution_count": null,
      "outputs": [
        {
          "output_type": "execute_result",
          "data": {
            "text/plain": [
              "array([1.1440689 , 0.84916267, 0.70527111, 1.21351628])"
            ]
          },
          "metadata": {},
          "execution_count": 27
        }
      ]
    }
  ]
}